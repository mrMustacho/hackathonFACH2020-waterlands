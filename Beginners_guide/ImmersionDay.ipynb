{
 "cells": [
  {
   "cell_type": "markdown",
   "metadata": {},
   "source": [
    "# Hackathon Immersion Day\n",
    "**Camilo Valenzuela - Software Engineer - Data Observatory**\n",
    "\n",
    "Este es un pequeño tutorial mostrando las distintas formas de acceder a los datos que se proveen en la Hackathon.\n",
    "\n",
    "Se tienen dos tipos de datos:\n",
    "1. Imagenes tif (SAF) en un Bucket de AWS S3.\n",
    "2. Datos dentro del DataCube."
   ]
  },
  {
   "cell_type": "markdown",
   "metadata": {},
   "source": [
    "# Accediendo al DataCube\n",
    "\n",
    "Para acceder al DataCube se utiliza el paquete `datacube` (https://github.com/opendatacube/datacube-core) de Open DataCube"
   ]
  },
  {
   "cell_type": "code",
   "execution_count": 2,
   "metadata": {},
   "outputs": [
    {
     "ename": "ModuleNotFoundError",
     "evalue": "No module named 'deafrica_plotting'",
     "output_type": "error",
     "traceback": [
      "\u001b[0;31m---------------------------------------------------------------------------\u001b[0m",
      "\u001b[0;31mModuleNotFoundError\u001b[0m                       Traceback (most recent call last)",
      "\u001b[0;32m<ipython-input-2-6242a88f37ef>\u001b[0m in \u001b[0;36m<module>\u001b[0;34m\u001b[0m\n\u001b[1;32m      1\u001b[0m \u001b[0;32mimport\u001b[0m \u001b[0mdatacube\u001b[0m\u001b[0;34m\u001b[0m\u001b[0;34m\u001b[0m\u001b[0m\n\u001b[1;32m      2\u001b[0m \u001b[0;32mfrom\u001b[0m \u001b[0modc\u001b[0m\u001b[0;34m.\u001b[0m\u001b[0mui\u001b[0m \u001b[0;32mimport\u001b[0m \u001b[0mDcViewer\u001b[0m\u001b[0;34m\u001b[0m\u001b[0;34m\u001b[0m\u001b[0m\n\u001b[0;32m----> 3\u001b[0;31m \u001b[0;32mfrom\u001b[0m \u001b[0mdeafrica_plotting\u001b[0m \u001b[0;32mimport\u001b[0m \u001b[0mdisplay_map\u001b[0m\u001b[0;34m\u001b[0m\u001b[0;34m\u001b[0m\u001b[0m\n\u001b[0m",
      "\u001b[0;31mModuleNotFoundError\u001b[0m: No module named 'deafrica_plotting'"
     ]
    }
   ],
   "source": [
    "import datacube\n",
    "from odc.ui import DcViewer\n",
    "from deafrica_plotting import display_map"
   ]
  },
  {
   "cell_type": "markdown",
   "metadata": {},
   "source": [
    "## Crear una conexion al datacube \n",
    "\n",
    "Al crear una conexion con el DataCube se genera automaticamente la conexión con los datos dispobiles para la Hackathon"
   ]
  },
  {
   "cell_type": "code",
   "execution_count": null,
   "metadata": {},
   "outputs": [],
   "source": [
    "dc = datacube.Datacube(app=\"ImmersionDay\")"
   ]
  },
  {
   "cell_type": "markdown",
   "metadata": {},
   "source": [
    "## Dentro del data cube existen distintos productos"
   ]
  },
  {
   "cell_type": "code",
   "execution_count": null,
   "metadata": {},
   "outputs": [],
   "source": [
    "?dc.list_products"
   ]
  },
  {
   "cell_type": "code",
   "execution_count": null,
   "metadata": {},
   "outputs": [],
   "source": [
    "products = dc.list_products()\n",
    "products[[\"name\", \"description\"]]"
   ]
  },
  {
   "cell_type": "markdown",
   "metadata": {},
   "source": [
    "## Para cada producto se tienen varias mediciones"
   ]
  },
  {
   "cell_type": "code",
   "execution_count": null,
   "metadata": {},
   "outputs": [],
   "source": [
    "?dc.list_measurements"
   ]
  },
  {
   "cell_type": "code",
   "execution_count": null,
   "metadata": {},
   "outputs": [],
   "source": [
    "measurements = dc.list_measurements()\n",
    "measurements.head(20)"
   ]
  },
  {
   "cell_type": "code",
   "execution_count": null,
   "metadata": {},
   "outputs": [],
   "source": [
    "product = \"usgs_espa_ls8c1_veg\"\n",
    "measurements.loc[product]"
   ]
  },
  {
   "cell_type": "markdown",
   "metadata": {},
   "source": [
    "Por ejemplo el producto *usgs_espa_ls8c1_veg* tiene dos índices de vegetación:\n",
    "- ndvi: Índice de vegetación de diferencia normalizada (Normalized difference vegetation index)\n",
    "- evi: Enhanced vegetation index"
   ]
  },
  {
   "cell_type": "markdown",
   "metadata": {},
   "source": [
    "# Visalizar los productos"
   ]
  },
  {
   "cell_type": "code",
   "execution_count": null,
   "metadata": {},
   "outputs": [],
   "source": [
    "?DcViewer"
   ]
  },
  {
   "cell_type": "code",
   "execution_count": null,
   "metadata": {},
   "outputs": [],
   "source": [
    "display_ls8 = [p for p in products.name if \"ls8\" in p]\n",
    "DcViewer(dc=dc, \n",
    "         time='2013',\n",
    "         products=display_ls8,\n",
    "         center=(-33.45, -70.66),\n",
    "         zoom=7,\n",
    "        )"
   ]
  },
  {
   "cell_type": "markdown",
   "metadata": {},
   "source": [
    "## Obteniendo datos del Data Cube\n",
    "Para este ejemplo usaremos los datos cercanos a la playa Las Docas en Valparaiso."
   ]
  },
  {
   "cell_type": "code",
   "execution_count": null,
   "metadata": {},
   "outputs": [],
   "source": [
    "#Definimos nuestra zona de interés\n",
    "lat_range = (-33.14, -33.16)\n",
    "lon_range = (-71.72, -71.67)\n",
    "\n",
    "#Y un rango de tiempo\n",
    "time_range = (\"2013-01-01\", \"2020-01-01\")"
   ]
  },
  {
   "cell_type": "code",
   "execution_count": null,
   "metadata": {},
   "outputs": [],
   "source": [
    "display_map(x=lon_range, y=lat_range)"
   ]
  },
  {
   "cell_type": "markdown",
   "metadata": {},
   "source": [
    "Los datos se descargan mediante `load()`."
   ]
  },
  {
   "cell_type": "code",
   "execution_count": null,
   "metadata": {},
   "outputs": [],
   "source": [
    "ds = dc.load(product = product,\n",
    "             longitude = lon_range,\n",
    "             latitude = lat_range,\n",
    "             output_crs = \"EPSG:32719\",\n",
    "             time = time_range,\n",
    "             resolution = (-25, 25),\n",
    "             dask_chunks = {\"time\": 1}\n",
    "            )\n",
    "ds"
   ]
  },
  {
   "cell_type": "code",
   "execution_count": null,
   "metadata": {},
   "outputs": [],
   "source": [
    "ds.ndvi"
   ]
  },
  {
   "cell_type": "markdown",
   "metadata": {},
   "source": [
    "## Visualizando los datos\n",
    "\n",
    "Los datos vienen escalados por lo que tenemos que transformarlos previo a cualquier procesamiento \n",
    "\n",
    "https://www.usgs.gov/core-science-systems/nli/landsat/landsat-surface-reflectance-derived-spectral-indices?qt-science_support_page_related_con=0#qt-science_support_page_related_con"
   ]
  },
  {
   "cell_type": "code",
   "execution_count": null,
   "metadata": {},
   "outputs": [],
   "source": [
    "scaled_ds = ds.ndvi[:10]*.0001\n",
    "scaled_ds.plot(col=\"time\", robust=True, col_wrap=5)"
   ]
  },
  {
   "cell_type": "code",
   "execution_count": null,
   "metadata": {},
   "outputs": [],
   "source": [
    "ds_ndvi = ds.ndvi * .0001\n",
    "means = ds_ndvi.mean(axis=[1,2]).values"
   ]
  },
  {
   "cell_type": "code",
   "execution_count": null,
   "metadata": {},
   "outputs": [],
   "source": [
    "import matplotlib.pyplot as plt\n",
    "import numpy as np"
   ]
  },
  {
   "cell_type": "code",
   "execution_count": null,
   "metadata": {},
   "outputs": [],
   "source": [
    "plt.figure(figsize=(12,5))\n",
    "plt.title(\"Mean NVDI\")\n",
    "plt.plot(means)"
   ]
  },
  {
   "cell_type": "markdown",
   "metadata": {},
   "source": [
    "Algunas preguntas:\n",
    "- ¿Que hacemos con la nubosidad?\n",
    "- Podemos utilizar otros datos para mejorar el análisis."
   ]
  },
  {
   "cell_type": "markdown",
   "metadata": {},
   "source": [
    "# Objetener datos desde AWS S3 "
   ]
  },
  {
   "cell_type": "markdown",
   "metadata": {},
   "source": [
    "## Creamos un cliente de s3 "
   ]
  },
  {
   "cell_type": "code",
   "execution_count": null,
   "metadata": {},
   "outputs": [],
   "source": [
    "import boto3\n",
    "import pandas as pd\n",
    "import xarray as xr"
   ]
  },
  {
   "cell_type": "code",
   "execution_count": null,
   "metadata": {},
   "outputs": [],
   "source": [
    "s3 = boto3.client(\"s3\")"
   ]
  },
  {
   "cell_type": "markdown",
   "metadata": {},
   "source": [
    "## Nos conectamos al bucket de la hackathon\n",
    "\n",
    "Usando boto3 podemos pedir la lista de imagenes que se tienen dentro del Bucket."
   ]
  },
  {
   "cell_type": "code",
   "execution_count": null,
   "metadata": {},
   "outputs": [],
   "source": [
    "bucket = \"hackathon-fach-2020\""
   ]
  },
  {
   "cell_type": "code",
   "execution_count": null,
   "metadata": {},
   "outputs": [],
   "source": [
    "objects = s3.list_objects(Bucket=bucket)\n",
    "parsed_objects = pd.DataFrame(objects[\"Contents\"])\n",
    "parsed_objects.sort_values(\"Key\")"
   ]
  },
  {
   "cell_type": "code",
   "execution_count": null,
   "metadata": {},
   "outputs": [],
   "source": [
    "file = \"incendios/04082020/Valparaiso_04082020_pan.tif\"\n",
    "file_path = f's3://{bucket}/{file}'\n",
    "file_path"
   ]
  },
  {
   "cell_type": "markdown",
   "metadata": {},
   "source": [
    "### Cargamos los datos en un xarray"
   ]
  },
  {
   "cell_type": "code",
   "execution_count": null,
   "metadata": {},
   "outputs": [],
   "source": [
    "# Si se agrega chunks los datos se cargan mediante Dask, si no con Numpy.\n",
    "da = xr.open_rasterio(file_path, chunks={'x': 500, 'y': 500})\n",
    "da"
   ]
  },
  {
   "cell_type": "code",
   "execution_count": null,
   "metadata": {},
   "outputs": [],
   "source": [
    "slice_data = da.sel(band=1, y=slice(*lat_range), x = slice(*lon_range))\n",
    "slice_data"
   ]
  },
  {
   "cell_type": "code",
   "execution_count": null,
   "metadata": {},
   "outputs": [],
   "source": [
    "# Cargando los datos en memoria\n",
    "slice_data = slice_data.load()\n",
    "slice_data.plot()"
   ]
  },
  {
   "cell_type": "markdown",
   "metadata": {},
   "source": [
    "**Para trabajar fuera de jupyterhub descargar los datos y luego cargarlos de manera local**"
   ]
  },
  {
   "cell_type": "markdown",
   "metadata": {},
   "source": [
    "## Descargando los datos localmente\n",
    "\n",
    "Para descargar los datos al jupyterhub utilizamos el AWS Cli.\n",
    "\n",
    "```bash\n",
    "aws s3 cp s3://<bucket>/<archivo> <path_dentro_de_jupyterhub>\n",
    "```"
   ]
  },
  {
   "cell_type": "code",
   "execution_count": null,
   "metadata": {},
   "outputs": [],
   "source": [
    "! aws s3 cp 's3://hackathon-fach-2020/incendios/04082020/Valparaiso_04082020_pan.tif' ."
   ]
  },
  {
   "cell_type": "markdown",
   "metadata": {},
   "source": [
    "La cuenta de jupyterhub tiene un limite de 20GB de disco duro."
   ]
  }
 ],
 "metadata": {
  "kernelspec": {
   "display_name": "Python 3",
   "language": "python",
   "name": "python3"
  },
  "language_info": {
   "codemirror_mode": {
    "name": "ipython",
    "version": 3
   },
   "file_extension": ".py",
   "mimetype": "text/x-python",
   "name": "python",
   "nbconvert_exporter": "python",
   "pygments_lexer": "ipython3",
   "version": "3.6.9"
  }
 },
 "nbformat": 4,
 "nbformat_minor": 4
}
